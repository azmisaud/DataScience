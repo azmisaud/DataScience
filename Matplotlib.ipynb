{
  "nbformat": 4,
  "nbformat_minor": 0,
  "metadata": {
    "colab": {
      "provenance": [],
      "authorship_tag": "ABX9TyO8aWnusZ6nXyh0ew02AhZ+",
      "include_colab_link": true
    },
    "kernelspec": {
      "name": "python3",
      "display_name": "Python 3"
    },
    "language_info": {
      "name": "python"
    }
  },
  "cells": [
    {
      "cell_type": "markdown",
      "metadata": {
        "id": "view-in-github",
        "colab_type": "text"
      },
      "source": [
        "<a href=\"https://colab.research.google.com/github/azmisaud/DataScience/blob/main/Matplotlib.ipynb\" target=\"_parent\"><img src=\"https://colab.research.google.com/assets/colab-badge.svg\" alt=\"Open In Colab\"/></a>"
      ]
    },
    {
      "cell_type": "markdown",
      "source": [
        "# Matplotlib"
      ],
      "metadata": {
        "id": "jumjvgsbEQm4"
      }
    },
    {
      "cell_type": "markdown",
      "source": [
        "\n",
        "\n",
        "*   Python Library for Data Visualization\n",
        "*   Introduced by John Hunter in 2002\n"
      ],
      "metadata": {
        "id": "AgSKac_9JzS4"
      }
    },
    {
      "cell_type": "code",
      "source": [
        "#importing\n",
        "import matplotlib.pyplot as plt"
      ],
      "metadata": {
        "id": "8UD4iK6iKPB-"
      },
      "execution_count": 4,
      "outputs": []
    },
    {
      "cell_type": "markdown",
      "source": [
        "## Bar Plot"
      ],
      "metadata": {
        "id": "AM8_YgjRKK0x"
      }
    },
    {
      "cell_type": "code",
      "execution_count": null,
      "metadata": {
        "id": "AHnRZHAKEMsM"
      },
      "outputs": [],
      "source": [
        "x=[\"Python\",\"C\",\"C++\",\"Java\"]\n",
        "y=[85,60,70,82]\n",
        "\n",
        "plt.bar(x,y)\n",
        "plt.show()"
      ]
    },
    {
      "cell_type": "markdown",
      "source": [
        "Adding the labels"
      ],
      "metadata": {
        "id": "ywX7H7WLK4WK"
      }
    },
    {
      "cell_type": "code",
      "source": [
        "plt.xlabel(\"Programming Languages\")\n",
        "plt.ylabel(\"Popularity\")\n",
        "plt.bar(x,y)\n",
        "plt.show()"
      ],
      "metadata": {
        "id": "-l3J3qGgKsWv"
      },
      "execution_count": null,
      "outputs": []
    },
    {
      "cell_type": "markdown",
      "source": [
        "Adding the title"
      ],
      "metadata": {
        "id": "f2btmJZOLCv_"
      }
    },
    {
      "cell_type": "code",
      "source": [
        "plt.title(\"Popularity of Programming Languages\")\n",
        "plt.xlabel(\"Programming Languages\")\n",
        "plt.ylabel(\"Popularity\")\n",
        "plt.bar(x,y)\n",
        "plt.show()"
      ],
      "metadata": {
        "id": "iPD87IWmLE5P"
      },
      "execution_count": null,
      "outputs": []
    },
    {
      "cell_type": "markdown",
      "source": [
        "Fontsize can also be changed for title, xlabel and ylabel."
      ],
      "metadata": {
        "id": "bfd8j4OQLP5s"
      }
    },
    {
      "cell_type": "code",
      "source": [
        "plt.title(\"Popularity of Programming Languages\",fontsize=15)\n",
        "plt.xlabel(\"Programming Languages\",fontsize=15)\n",
        "plt.ylabel(\"Popularity\",fontsize=15)\n",
        "plt.bar(x,y)\n",
        "plt.show()"
      ],
      "metadata": {
        "id": "HG68FEvyLXft"
      },
      "execution_count": null,
      "outputs": []
    },
    {
      "cell_type": "markdown",
      "source": [
        "Changing the width of the bars"
      ],
      "metadata": {
        "id": "0a958xzkLtEt"
      }
    },
    {
      "cell_type": "code",
      "source": [
        "plt.bar(x,y,width=0.4)\n",
        "plt.show()"
      ],
      "metadata": {
        "id": "hhPY6EtsLxCq"
      },
      "execution_count": null,
      "outputs": []
    },
    {
      "cell_type": "markdown",
      "source": [
        "Changing the colors of the bar"
      ],
      "metadata": {
        "id": "BTZO-NfPL4QZ"
      }
    },
    {
      "cell_type": "code",
      "source": [
        "plt.bar(x,y,width=0.4,color=\"red\")\n",
        "plt.show()"
      ],
      "metadata": {
        "id": "UY2Ywj03L0pN"
      },
      "execution_count": null,
      "outputs": []
    },
    {
      "cell_type": "code",
      "source": [
        "c=[\"red\",\"green\",\"blue\",\"yellow\"]\n",
        "plt.bar(x,y,width=0.4,color=c)\n",
        "plt.show()"
      ],
      "metadata": {
        "id": "ZHplHTBeMDDG"
      },
      "execution_count": null,
      "outputs": []
    },
    {
      "cell_type": "markdown",
      "source": [
        "Aliging the x labels"
      ],
      "metadata": {
        "id": "W_xOgTJwMexP"
      }
    },
    {
      "cell_type": "code",
      "source": [
        "plt.bar(x,y,width=0.4,color=c,align=\"edge\")\n",
        "plt.show()"
      ],
      "metadata": {
        "id": "rPGoAG3DMhIl"
      },
      "execution_count": null,
      "outputs": []
    },
    {
      "cell_type": "code",
      "source": [
        "plt.bar(x,y,width=0.4,color=c,align=\"center\")\n",
        "plt.show()"
      ],
      "metadata": {
        "id": "yXEVotcxMuJL"
      },
      "execution_count": null,
      "outputs": []
    },
    {
      "cell_type": "markdown",
      "source": [
        "Giving the boundary color of the bars"
      ],
      "metadata": {
        "id": "iv0m5VKEM2tn"
      }
    },
    {
      "cell_type": "code",
      "source": [
        "plt.bar(x,y,width=0.4,color=c,align=\"center\",edgecolor=\"black\",linewidth=5,linestyle=\":\")\n",
        "plt.show()"
      ],
      "metadata": {
        "id": "yPY1pyCUM64h"
      },
      "execution_count": null,
      "outputs": []
    },
    {
      "cell_type": "markdown",
      "source": [
        "Making the graph light(less visible)"
      ],
      "metadata": {
        "id": "fpKhTZ6DNWAa"
      }
    },
    {
      "cell_type": "code",
      "source": [
        "plt.bar(x,y,width=0.4,color=c,alpha=0.5)\n",
        "# alpha lies between 0 and 1\n",
        "plt.show()"
      ],
      "metadata": {
        "id": "hd77_Hy9NY7f"
      },
      "execution_count": null,
      "outputs": []
    },
    {
      "cell_type": "markdown",
      "source": [
        "Adding Label Plot"
      ],
      "metadata": {
        "id": "in7Dv5hvNlWB"
      }
    },
    {
      "cell_type": "code",
      "source": [
        "plt.bar(x,y,width=0.4,color=\"red\",label=\"popularity\")\n",
        "plt.legend()\n",
        "plt.show()"
      ],
      "metadata": {
        "id": "ihtW75MKNp-h"
      },
      "execution_count": null,
      "outputs": []
    },
    {
      "cell_type": "markdown",
      "source": [
        "Multiple BarGraph"
      ],
      "metadata": {
        "id": "xGfvm05YN8yI"
      }
    },
    {
      "cell_type": "code",
      "source": [
        "z=[20,30,40,50]\n",
        "plt.bar(x,y,width=0.4,color=\"red\",label=\"popularity\")\n",
        "plt.bar(x,z,width=0.4,color=\"black\",label=\"popularity1\")\n",
        "plt.show()"
      ],
      "metadata": {
        "id": "pOd6SZaKN-gV"
      },
      "execution_count": null,
      "outputs": []
    },
    {
      "cell_type": "code",
      "source": [],
      "metadata": {
        "id": "7zJiKGwbOZ8J"
      },
      "execution_count": null,
      "outputs": []
    }
  ]
}