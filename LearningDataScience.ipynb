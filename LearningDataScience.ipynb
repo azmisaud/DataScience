{
  "nbformat": 4,
  "nbformat_minor": 0,
  "metadata": {
    "colab": {
      "provenance": [],
      "authorship_tag": "ABX9TyO3yarSbGI+S1mW+Ggv9dou",
      "include_colab_link": true
    },
    "kernelspec": {
      "name": "python3",
      "display_name": "Python 3"
    },
    "language_info": {
      "name": "python"
    }
  },
  "cells": [
    {
      "cell_type": "markdown",
      "metadata": {
        "id": "view-in-github",
        "colab_type": "text"
      },
      "source": [
        "<a href=\"https://colab.research.google.com/github/azmisaud/DataScience/blob/main/LearningDataScience.ipynb\" target=\"_parent\"><img src=\"https://colab.research.google.com/assets/colab-badge.svg\" alt=\"Open In Colab\"/></a>"
      ]
    },
    {
      "cell_type": "markdown",
      "source": [
        "# Statistics"
      ],
      "metadata": {
        "id": "2oOsNfQJuOkO"
      }
    },
    {
      "cell_type": "code",
      "source": [
        "import numpy as np\n",
        "import pandas as pd\n",
        "import matplotlib.pyplot as plt\n",
        "import seaborn as sns"
      ],
      "metadata": {
        "id": "xVNO9MzDuXHm"
      },
      "execution_count": 28,
      "outputs": []
    },
    {
      "cell_type": "markdown",
      "source": [
        "## Mean"
      ],
      "metadata": {
        "id": "8aU7G-4GuSpn"
      }
    },
    {
      "cell_type": "code",
      "source": [
        "ar=np.array([1,2,3,10,11,12,90,91,92,93])"
      ],
      "metadata": {
        "id": "LXL6MF55ugJp"
      },
      "execution_count": 19,
      "outputs": []
    },
    {
      "cell_type": "markdown",
      "source": [
        "Calculating by **Formula**"
      ],
      "metadata": {
        "id": "Rx80eI8jus9l"
      }
    },
    {
      "cell_type": "code",
      "source": [
        "np.sum(ar)/len(ar)"
      ],
      "metadata": {
        "id": "VP5Hrrv1uqxl"
      },
      "execution_count": null,
      "outputs": []
    },
    {
      "cell_type": "markdown",
      "source": [
        "Calculating by Numpy Function"
      ],
      "metadata": {
        "id": "faC6s5vou2zX"
      }
    },
    {
      "cell_type": "code",
      "source": [
        "np.mean(ar)"
      ],
      "metadata": {
        "id": "Nc9ZO-f0u2bX"
      },
      "execution_count": null,
      "outputs": []
    },
    {
      "cell_type": "markdown",
      "source": [
        "Calculating the mean of a real world data."
      ],
      "metadata": {
        "id": "NNrUlw63u-9p"
      }
    },
    {
      "cell_type": "code",
      "source": [
        "dataset=pd.read_csv(\"/content/train_and_test2.csv\")"
      ],
      "metadata": {
        "id": "emRQ927HvDib"
      },
      "execution_count": 22,
      "outputs": []
    },
    {
      "cell_type": "code",
      "source": [
        "dataset.head(3)"
      ],
      "metadata": {
        "id": "1-gOF-nOvcM2"
      },
      "execution_count": null,
      "outputs": []
    },
    {
      "cell_type": "code",
      "source": [
        "dataset[\"Age\"]"
      ],
      "metadata": {
        "id": "93id2vO2vnNP"
      },
      "execution_count": null,
      "outputs": []
    },
    {
      "cell_type": "code",
      "source": [
        "dataset[\"Age\"].mean()"
      ],
      "metadata": {
        "id": "evWCs4GvvuLu"
      },
      "execution_count": null,
      "outputs": []
    },
    {
      "cell_type": "markdown",
      "source": [
        "OR"
      ],
      "metadata": {
        "id": "FfNXwvb2v4cg"
      }
    },
    {
      "cell_type": "code",
      "source": [
        "mn=np.mean(dataset[\"Age\"])"
      ],
      "metadata": {
        "id": "MAP74YNgv5Yi"
      },
      "execution_count": 31,
      "outputs": []
    },
    {
      "cell_type": "markdown",
      "source": [
        "Where the mean lies? Plotting the data"
      ],
      "metadata": {
        "id": "ADU7ic7ZwA2T"
      }
    },
    {
      "cell_type": "code",
      "source": [
        "sns.histplot(x=\"Age\",data=dataset,bins=[i for i in range(0,81,10)])\n",
        "plt.plot([mn for i in range(0,600)],[i for i in range(0,600)],c=\"red\")\n",
        "plt.show()"
      ],
      "metadata": {
        "id": "Ehp33v3xwEIj"
      },
      "execution_count": null,
      "outputs": []
    },
    {
      "cell_type": "markdown",
      "source": [
        "## Median"
      ],
      "metadata": {
        "id": "MgzIJgamxc3-"
      }
    },
    {
      "cell_type": "markdown",
      "source": [
        "Checking if there is any null value in the age."
      ],
      "metadata": {
        "id": "8lMe4_E_znmg"
      }
    },
    {
      "cell_type": "code",
      "source": [
        "dataset.isnull().sum()"
      ],
      "metadata": {
        "id": "pkaWnNCPzm6i"
      },
      "execution_count": null,
      "outputs": []
    },
    {
      "cell_type": "markdown",
      "source": [
        "If there is null data in age, it should be filled."
      ],
      "metadata": {
        "id": "hhfvJ_0Rz1qk"
      }
    },
    {
      "cell_type": "code",
      "source": [
        "np.median(dataset[\"Age\"])"
      ],
      "metadata": {
        "id": "cGv5Qn86xe-K"
      },
      "execution_count": null,
      "outputs": []
    },
    {
      "cell_type": "markdown",
      "source": [
        "OR"
      ],
      "metadata": {
        "id": "QYnjN1G70MDF"
      }
    },
    {
      "cell_type": "code",
      "source": [
        "md=dataset[\"Age\"].median()"
      ],
      "metadata": {
        "id": "5XMUfpt00M6D"
      },
      "execution_count": 39,
      "outputs": []
    },
    {
      "cell_type": "markdown",
      "source": [
        "Plotting the data with median"
      ],
      "metadata": {
        "id": "N3Q-uNEL0wce"
      }
    },
    {
      "cell_type": "code",
      "source": [
        "sns.histplot(x=\"Age\",data=dataset,bins=[i for i in range(0,81,10)])\n",
        "plt.plot([md for i in range(0,600)],[i for i in range(0,600)],c=\"red\")\n",
        "plt.show()"
      ],
      "metadata": {
        "id": "sPk3o_Ql0zab"
      },
      "execution_count": null,
      "outputs": []
    },
    {
      "cell_type": "markdown",
      "source": [
        "In DataCleaning, Mean, Median and Mode are used."
      ],
      "metadata": {
        "id": "8AHiE46J0BiJ"
      }
    },
    {
      "cell_type": "markdown",
      "source": [
        "## Mode"
      ],
      "metadata": {
        "id": "dTgb3OdD1bHX"
      }
    },
    {
      "cell_type": "markdown",
      "source": [
        "Mode of Age"
      ],
      "metadata": {
        "id": "YDz-KKMR2f3M"
      }
    },
    {
      "cell_type": "code",
      "source": [
        "moa=dataset[\"Age\"].mode()[0]"
      ],
      "metadata": {
        "id": "WAMugvQe1c0D"
      },
      "execution_count": 50,
      "outputs": []
    },
    {
      "cell_type": "markdown",
      "source": [
        "Value counts of each data."
      ],
      "metadata": {
        "id": "nhfEfFYA2Qwq"
      }
    },
    {
      "cell_type": "code",
      "source": [
        "dataset[\"Age\"].value_counts()"
      ],
      "metadata": {
        "id": "yUxiKruX2Xbc"
      },
      "execution_count": null,
      "outputs": []
    },
    {
      "cell_type": "markdown",
      "source": [
        "Mode of Fare"
      ],
      "metadata": {
        "id": "pCtHvsBe2h3Z"
      }
    },
    {
      "cell_type": "code",
      "source": [
        "mof=dataset[\"Fare\"].mode()[0]"
      ],
      "metadata": {
        "id": "wqx_fidv2jSy"
      },
      "execution_count": 55,
      "outputs": []
    },
    {
      "cell_type": "code",
      "source": [
        "dataset[\"Fare\"].value_counts()"
      ],
      "metadata": {
        "id": "0wi_Fgjg2xII"
      },
      "execution_count": null,
      "outputs": []
    },
    {
      "cell_type": "markdown",
      "source": [
        "Plotting the data of Age with Mode"
      ],
      "metadata": {
        "id": "apC0UGvx29Uu"
      }
    },
    {
      "cell_type": "code",
      "source": [
        "sns.histplot(x=\"Age\",data=dataset,bins=[i for i in range(0,81,10)])\n",
        "plt.plot([moa for i in range(0,600)],[i for i in range(0,600)],c=\"red\")\n",
        "plt.show()"
      ],
      "metadata": {
        "id": "XvIEgavO3APj"
      },
      "execution_count": null,
      "outputs": []
    },
    {
      "cell_type": "markdown",
      "source": [
        "Plotting the data of Fare with Mode"
      ],
      "metadata": {
        "id": "uHKZftQt3erU"
      }
    },
    {
      "cell_type": "code",
      "source": [
        "sns.histplot(x=\"Fare\",data=dataset,bins=[i for i in range(0,601,50)])\n",
        "plt.plot([mof for i in range(0,1100)],[i for i in range(0,1100)],c=\"red\")\n",
        "plt.show()"
      ],
      "metadata": {
        "id": "EaF8Wz5v3hfo"
      },
      "execution_count": null,
      "outputs": []
    },
    {
      "cell_type": "markdown",
      "source": [
        "Plotting the data of age with mean, median and mode"
      ],
      "metadata": {
        "id": "N97L5VRn4d9e"
      }
    },
    {
      "cell_type": "code",
      "source": [
        "sns.histplot(x=\"Age\",data=dataset,bins=[i for i in range(0,81,10)])\n",
        "plt.plot([moa for i in range(0,600)],[i for i in range(0,600)], c=\"red\",label=\"mode\")\n",
        "plt.plot([md for i in range(0,600)],[i for i in range(0,600)],c=\"green\",label=\"median\")\n",
        "plt.plot([mn for i in range(0,600)],[i for i in range(0,600)],c=\"black\",label=\"mean\")\n",
        "plt.legend()\n",
        "plt.show()"
      ],
      "metadata": {
        "id": "cY267jb-4hAI"
      },
      "execution_count": null,
      "outputs": []
    },
    {
      "cell_type": "markdown",
      "source": [
        "## Range"
      ],
      "metadata": {
        "id": "LvVLC7j-6UTW"
      }
    },
    {
      "cell_type": "markdown",
      "source": [
        "Finding the minimum age."
      ],
      "metadata": {
        "id": "TnWvbvCe6kbw"
      }
    },
    {
      "cell_type": "code",
      "source": [
        "min_r=dataset[\"Age\"].min()\n",
        "print(min_r)"
      ],
      "metadata": {
        "colab": {
          "base_uri": "https://localhost:8080/"
        },
        "id": "WavPoLO66WMk",
        "outputId": "d3abbf73-55dd-41ae-a6e6-3dc12ad0de96"
      },
      "execution_count": 61,
      "outputs": [
        {
          "output_type": "stream",
          "name": "stdout",
          "text": [
            "0.17\n"
          ]
        }
      ]
    },
    {
      "cell_type": "markdown",
      "source": [
        "Finding the maximum age."
      ],
      "metadata": {
        "id": "gmyONg856rS5"
      }
    },
    {
      "cell_type": "code",
      "source": [
        "max_r=dataset[\"Age\"].max()\n",
        "print(max_r)"
      ],
      "metadata": {
        "colab": {
          "base_uri": "https://localhost:8080/"
        },
        "id": "qAIzVOA16tgt",
        "outputId": "331d2c5f-f7d8-4781-bd03-d94de3db7ec2"
      },
      "execution_count": 62,
      "outputs": [
        {
          "output_type": "stream",
          "name": "stdout",
          "text": [
            "80.0\n"
          ]
        }
      ]
    },
    {
      "cell_type": "markdown",
      "source": [
        "Range=Maximum-Minimum"
      ],
      "metadata": {
        "id": "8CPPZtrj6zih"
      }
    },
    {
      "cell_type": "code",
      "source": [
        "range=max_r-min_r\n",
        "print(range)"
      ],
      "metadata": {
        "colab": {
          "base_uri": "https://localhost:8080/"
        },
        "id": "gRyOAs9-7ClH",
        "outputId": "0f177d05-6f8a-4943-dc4e-648b72b894b7"
      },
      "execution_count": 63,
      "outputs": [
        {
          "output_type": "stream",
          "name": "stdout",
          "text": [
            "79.83\n"
          ]
        }
      ]
    },
    {
      "cell_type": "markdown",
      "source": [
        "## Mean Absolute Deviation (MAD)\n",
        "\n"
      ],
      "metadata": {
        "id": "uqbKeXFI7wfu"
      }
    },
    {
      "cell_type": "code",
      "source": [
        "ar1=np.array([75,65,73,68,72,67])\n",
        "ar2=np.array([90,47,43,96,93,51])"
      ],
      "metadata": {
        "id": "c_SJ0MKk7z_x"
      },
      "execution_count": 64,
      "outputs": []
    },
    {
      "cell_type": "markdown",
      "source": [
        "Scatter plot of these above arrays."
      ],
      "metadata": {
        "id": "uwVVWisW9l7V"
      }
    },
    {
      "cell_type": "code",
      "source": [
        "number=np.array([1,2,3,4,5,6])\n",
        "plt.scatter(ar1,number)\n",
        "plt.scatter(ar2,number,color=\"red\")\n",
        "plt.show()"
      ],
      "metadata": {
        "id": "Jhd65b529Qzz"
      },
      "execution_count": null,
      "outputs": []
    },
    {
      "cell_type": "code",
      "source": [
        "mn1=np.mean(ar1)\n",
        "mn2=np.mean(ar2)"
      ],
      "metadata": {
        "id": "TYsvr8xG_juj"
      },
      "execution_count": 71,
      "outputs": []
    },
    {
      "cell_type": "markdown",
      "source": [
        "Calculating MAD"
      ],
      "metadata": {
        "id": "L5leHzUaAHcT"
      }
    },
    {
      "cell_type": "code",
      "source": [
        "np.sum(np.abs(ar1-mn1))/len(ar1)\n",
        "np.sum(np.abs(ar2-mn2))/len(ar2)"
      ],
      "metadata": {
        "colab": {
          "base_uri": "https://localhost:8080/"
        },
        "id": "fAt06ZmC_wai",
        "outputId": "b619fa66-0a40-4bec-a51b-d070b302ee59"
      },
      "execution_count": 77,
      "outputs": [
        {
          "output_type": "execute_result",
          "data": {
            "text/plain": [
              "23.0"
            ]
          },
          "metadata": {},
          "execution_count": 77
        }
      ]
    },
    {
      "cell_type": "markdown",
      "source": [
        "## Standard Deviation & Variance"
      ],
      "metadata": {
        "id": "59OKzsh5AXQd"
      }
    },
    {
      "cell_type": "code",
      "source": [],
      "metadata": {
        "id": "529gjdbwAcJO"
      },
      "execution_count": null,
      "outputs": []
    }
  ]
}