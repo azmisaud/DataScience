{
  "nbformat": 4,
  "nbformat_minor": 0,
  "metadata": {
    "colab": {
      "provenance": [],
      "mount_file_id": "1FR_Hon2xZ5vkyqmRekzHoK0SberLGjbW",
      "authorship_tag": "ABX9TyNubfw1SOMqdk7XZKtc3FJN",
      "include_colab_link": true
    },
    "kernelspec": {
      "name": "python3",
      "display_name": "Python 3"
    },
    "language_info": {
      "name": "python"
    }
  },
  "cells": [
    {
      "cell_type": "markdown",
      "metadata": {
        "id": "view-in-github",
        "colab_type": "text"
      },
      "source": [
        "<a href=\"https://colab.research.google.com/github/azmisaud/DataScience/blob/main/LearningDataScience.ipynb\" target=\"_parent\"><img src=\"https://colab.research.google.com/assets/colab-badge.svg\" alt=\"Open In Colab\"/></a>"
      ]
    },
    {
      "cell_type": "markdown",
      "source": [
        "# Statistics"
      ],
      "metadata": {
        "id": "2oOsNfQJuOkO"
      }
    },
    {
      "cell_type": "code",
      "source": [
        "import numpy as np\n",
        "import pandas as pd\n",
        "import matplotlib.pyplot as plt\n",
        "import seaborn as sns"
      ],
      "metadata": {
        "id": "xVNO9MzDuXHm"
      },
      "execution_count": null,
      "outputs": []
    },
    {
      "cell_type": "markdown",
      "source": [
        "## Mean"
      ],
      "metadata": {
        "id": "8aU7G-4GuSpn"
      }
    },
    {
      "cell_type": "code",
      "source": [
        "ar=np.array([1,2,3,10,11,12,90,91,92,93])"
      ],
      "metadata": {
        "id": "LXL6MF55ugJp"
      },
      "execution_count": null,
      "outputs": []
    },
    {
      "cell_type": "markdown",
      "source": [
        "Calculating by **Formula**"
      ],
      "metadata": {
        "id": "Rx80eI8jus9l"
      }
    },
    {
      "cell_type": "code",
      "source": [
        "np.sum(ar)/len(ar)"
      ],
      "metadata": {
        "id": "VP5Hrrv1uqxl"
      },
      "execution_count": null,
      "outputs": []
    },
    {
      "cell_type": "markdown",
      "source": [
        "Calculating by Numpy Function"
      ],
      "metadata": {
        "id": "faC6s5vou2zX"
      }
    },
    {
      "cell_type": "code",
      "source": [
        "np.mean(ar)"
      ],
      "metadata": {
        "id": "Nc9ZO-f0u2bX"
      },
      "execution_count": null,
      "outputs": []
    },
    {
      "cell_type": "markdown",
      "source": [
        "Calculating the mean of a real world data."
      ],
      "metadata": {
        "id": "NNrUlw63u-9p"
      }
    },
    {
      "cell_type": "code",
      "source": [
        "dataset=pd.read_csv(\"/content/drive/MyDrive/DataSets/titanic.csv\")"
      ],
      "metadata": {
        "id": "emRQ927HvDib"
      },
      "execution_count": 62,
      "outputs": []
    },
    {
      "cell_type": "code",
      "source": [
        "from google.colab import drive\n",
        "drive.mount('/content/drive')"
      ],
      "metadata": {
        "id": "V2JUF8vc_TLD"
      },
      "execution_count": null,
      "outputs": []
    },
    {
      "cell_type": "code",
      "source": [
        "dataset.head(3)"
      ],
      "metadata": {
        "id": "1-gOF-nOvcM2"
      },
      "execution_count": null,
      "outputs": []
    },
    {
      "cell_type": "code",
      "source": [
        "dataset[\"Age\"]"
      ],
      "metadata": {
        "id": "93id2vO2vnNP"
      },
      "execution_count": null,
      "outputs": []
    },
    {
      "cell_type": "code",
      "source": [
        "dataset[\"Age\"].mean()"
      ],
      "metadata": {
        "id": "evWCs4GvvuLu"
      },
      "execution_count": null,
      "outputs": []
    },
    {
      "cell_type": "markdown",
      "source": [
        "OR"
      ],
      "metadata": {
        "id": "FfNXwvb2v4cg"
      }
    },
    {
      "cell_type": "code",
      "source": [
        "mn=np.mean(dataset[\"Age\"])"
      ],
      "metadata": {
        "id": "MAP74YNgv5Yi"
      },
      "execution_count": null,
      "outputs": []
    },
    {
      "cell_type": "markdown",
      "source": [
        "Where the mean lies? Plotting the data"
      ],
      "metadata": {
        "id": "ADU7ic7ZwA2T"
      }
    },
    {
      "cell_type": "code",
      "source": [
        "sns.histplot(x=\"Age\",data=dataset,bins=[i for i in range(0,81,10)])\n",
        "plt.plot([mn for i in range(0,600)],[i for i in range(0,600)],c=\"red\")\n",
        "plt.show()"
      ],
      "metadata": {
        "id": "Ehp33v3xwEIj"
      },
      "execution_count": null,
      "outputs": []
    },
    {
      "cell_type": "markdown",
      "source": [
        "## Median"
      ],
      "metadata": {
        "id": "MgzIJgamxc3-"
      }
    },
    {
      "cell_type": "markdown",
      "source": [
        "Checking if there is any null value in the age."
      ],
      "metadata": {
        "id": "8lMe4_E_znmg"
      }
    },
    {
      "cell_type": "code",
      "source": [
        "dataset.isnull().sum()"
      ],
      "metadata": {
        "id": "pkaWnNCPzm6i"
      },
      "execution_count": null,
      "outputs": []
    },
    {
      "cell_type": "markdown",
      "source": [
        "If there is null data in age, it should be filled."
      ],
      "metadata": {
        "id": "hhfvJ_0Rz1qk"
      }
    },
    {
      "cell_type": "code",
      "source": [
        "np.median(dataset[\"Age\"])"
      ],
      "metadata": {
        "id": "cGv5Qn86xe-K"
      },
      "execution_count": null,
      "outputs": []
    },
    {
      "cell_type": "markdown",
      "source": [
        "OR"
      ],
      "metadata": {
        "id": "QYnjN1G70MDF"
      }
    },
    {
      "cell_type": "code",
      "source": [
        "md=dataset[\"Age\"].median()"
      ],
      "metadata": {
        "id": "5XMUfpt00M6D"
      },
      "execution_count": null,
      "outputs": []
    },
    {
      "cell_type": "markdown",
      "source": [
        "Plotting the data with median"
      ],
      "metadata": {
        "id": "N3Q-uNEL0wce"
      }
    },
    {
      "cell_type": "code",
      "source": [
        "sns.histplot(x=\"Age\",data=dataset,bins=[i for i in range(0,81,10)])\n",
        "plt.plot([md for i in range(0,600)],[i for i in range(0,600)],c=\"red\")\n",
        "plt.show()"
      ],
      "metadata": {
        "id": "sPk3o_Ql0zab"
      },
      "execution_count": null,
      "outputs": []
    },
    {
      "cell_type": "markdown",
      "source": [
        "In DataCleaning, Mean, Median and Mode are used."
      ],
      "metadata": {
        "id": "8AHiE46J0BiJ"
      }
    },
    {
      "cell_type": "markdown",
      "source": [
        "## Mode"
      ],
      "metadata": {
        "id": "dTgb3OdD1bHX"
      }
    },
    {
      "cell_type": "markdown",
      "source": [
        "Mode of Age"
      ],
      "metadata": {
        "id": "YDz-KKMR2f3M"
      }
    },
    {
      "cell_type": "code",
      "source": [
        "moa=dataset[\"Age\"].mode()[0]"
      ],
      "metadata": {
        "id": "WAMugvQe1c0D"
      },
      "execution_count": null,
      "outputs": []
    },
    {
      "cell_type": "markdown",
      "source": [
        "Value counts of each data."
      ],
      "metadata": {
        "id": "nhfEfFYA2Qwq"
      }
    },
    {
      "cell_type": "code",
      "source": [
        "dataset[\"Age\"].value_counts()"
      ],
      "metadata": {
        "id": "yUxiKruX2Xbc"
      },
      "execution_count": null,
      "outputs": []
    },
    {
      "cell_type": "markdown",
      "source": [
        "Mode of Fare"
      ],
      "metadata": {
        "id": "pCtHvsBe2h3Z"
      }
    },
    {
      "cell_type": "code",
      "source": [
        "mof=dataset[\"Fare\"].mode()[0]"
      ],
      "metadata": {
        "id": "wqx_fidv2jSy"
      },
      "execution_count": null,
      "outputs": []
    },
    {
      "cell_type": "code",
      "source": [
        "dataset[\"Fare\"].value_counts()"
      ],
      "metadata": {
        "id": "0wi_Fgjg2xII"
      },
      "execution_count": null,
      "outputs": []
    },
    {
      "cell_type": "markdown",
      "source": [
        "Plotting the data of Age with Mode"
      ],
      "metadata": {
        "id": "apC0UGvx29Uu"
      }
    },
    {
      "cell_type": "code",
      "source": [
        "sns.histplot(x=\"Age\",data=dataset,bins=[i for i in range(0,81,10)])\n",
        "plt.plot([moa for i in range(0,600)],[i for i in range(0,600)],c=\"red\")\n",
        "plt.show()"
      ],
      "metadata": {
        "id": "XvIEgavO3APj"
      },
      "execution_count": null,
      "outputs": []
    },
    {
      "cell_type": "markdown",
      "source": [
        "Plotting the data of Fare with Mode"
      ],
      "metadata": {
        "id": "uHKZftQt3erU"
      }
    },
    {
      "cell_type": "code",
      "source": [
        "sns.histplot(x=\"Fare\",data=dataset,bins=[i for i in range(0,601,50)])\n",
        "plt.plot([mof for i in range(0,1100)],[i for i in range(0,1100)],c=\"red\")\n",
        "plt.show()"
      ],
      "metadata": {
        "id": "EaF8Wz5v3hfo"
      },
      "execution_count": null,
      "outputs": []
    },
    {
      "cell_type": "markdown",
      "source": [
        "Plotting the data of age with mean, median and mode"
      ],
      "metadata": {
        "id": "N97L5VRn4d9e"
      }
    },
    {
      "cell_type": "code",
      "source": [
        "sns.histplot(x=\"Age\",data=dataset,bins=[i for i in range(0,81,10)])\n",
        "plt.plot([moa for i in range(0,600)],[i for i in range(0,600)], c=\"red\",label=\"mode\")\n",
        "plt.plot([md for i in range(0,600)],[i for i in range(0,600)],c=\"green\",label=\"median\")\n",
        "plt.plot([mn for i in range(0,600)],[i for i in range(0,600)],c=\"black\",label=\"mean\")\n",
        "plt.legend()\n",
        "plt.show()"
      ],
      "metadata": {
        "id": "cY267jb-4hAI"
      },
      "execution_count": null,
      "outputs": []
    },
    {
      "cell_type": "markdown",
      "source": [
        "## Range"
      ],
      "metadata": {
        "id": "LvVLC7j-6UTW"
      }
    },
    {
      "cell_type": "markdown",
      "source": [
        "Finding the minimum age."
      ],
      "metadata": {
        "id": "TnWvbvCe6kbw"
      }
    },
    {
      "cell_type": "code",
      "source": [
        "min_r=dataset[\"Age\"].min()\n",
        "print(min_r)"
      ],
      "metadata": {
        "id": "WavPoLO66WMk"
      },
      "execution_count": null,
      "outputs": []
    },
    {
      "cell_type": "markdown",
      "source": [
        "Finding the maximum age."
      ],
      "metadata": {
        "id": "gmyONg856rS5"
      }
    },
    {
      "cell_type": "code",
      "source": [
        "max_r=dataset[\"Age\"].max()\n",
        "print(max_r)"
      ],
      "metadata": {
        "id": "qAIzVOA16tgt"
      },
      "execution_count": null,
      "outputs": []
    },
    {
      "cell_type": "markdown",
      "source": [
        "Range=Maximum-Minimum"
      ],
      "metadata": {
        "id": "8CPPZtrj6zih"
      }
    },
    {
      "cell_type": "code",
      "source": [
        "range=max_r-min_r\n",
        "print(range)"
      ],
      "metadata": {
        "id": "gRyOAs9-7ClH"
      },
      "execution_count": null,
      "outputs": []
    },
    {
      "cell_type": "markdown",
      "source": [
        "## Mean Absolute Deviation (MAD)\n",
        "\n"
      ],
      "metadata": {
        "id": "uqbKeXFI7wfu"
      }
    },
    {
      "cell_type": "code",
      "source": [
        "ar1=np.array([75,65,73,68,72,67])\n",
        "ar2=np.array([90,47,43,96,93,51])"
      ],
      "metadata": {
        "id": "c_SJ0MKk7z_x"
      },
      "execution_count": null,
      "outputs": []
    },
    {
      "cell_type": "markdown",
      "source": [
        "Scatter plot of these above arrays."
      ],
      "metadata": {
        "id": "uwVVWisW9l7V"
      }
    },
    {
      "cell_type": "code",
      "source": [
        "number=np.array([1,2,3,4,5,6])\n",
        "plt.scatter(ar1,number)\n",
        "plt.scatter(ar2,number,color=\"red\")\n",
        "plt.show()"
      ],
      "metadata": {
        "id": "Jhd65b529Qzz"
      },
      "execution_count": null,
      "outputs": []
    },
    {
      "cell_type": "code",
      "source": [
        "mn1=np.mean(ar1)\n",
        "mn2=np.mean(ar2)"
      ],
      "metadata": {
        "id": "TYsvr8xG_juj"
      },
      "execution_count": null,
      "outputs": []
    },
    {
      "cell_type": "markdown",
      "source": [
        "Calculating MAD"
      ],
      "metadata": {
        "id": "L5leHzUaAHcT"
      }
    },
    {
      "cell_type": "code",
      "source": [
        "np.sum(np.abs(ar1-mn1))/len(ar1)\n",
        "np.sum(np.abs(ar2-mn2))/len(ar2)"
      ],
      "metadata": {
        "id": "fAt06ZmC_wai"
      },
      "execution_count": null,
      "outputs": []
    },
    {
      "cell_type": "markdown",
      "source": [
        "## Standard Deviation & Variance"
      ],
      "metadata": {
        "id": "59OKzsh5AXQd"
      }
    },
    {
      "cell_type": "code",
      "source": [
        "np.std(ar1)"
      ],
      "metadata": {
        "id": "529gjdbwAcJO"
      },
      "execution_count": null,
      "outputs": []
    },
    {
      "cell_type": "code",
      "source": [
        "np.std(ar2) #Standard Deviation"
      ],
      "metadata": {
        "id": "F33LfANCWiMM"
      },
      "execution_count": null,
      "outputs": []
    },
    {
      "cell_type": "code",
      "source": [
        "np.var(ar1)"
      ],
      "metadata": {
        "id": "p3faOMMYWnat"
      },
      "execution_count": null,
      "outputs": []
    },
    {
      "cell_type": "code",
      "source": [
        "np.var(ar2) #Variance"
      ],
      "metadata": {
        "id": "Xnxf8F1WWrG-"
      },
      "execution_count": null,
      "outputs": []
    },
    {
      "cell_type": "markdown",
      "source": [
        "Real world data-SD & Variance"
      ],
      "metadata": {
        "id": "aIYrhTARXEun"
      }
    },
    {
      "cell_type": "code",
      "source": [
        "np.std(dataset[\"Age\"])"
      ],
      "metadata": {
        "id": "c_YS_c3vXIfd"
      },
      "execution_count": null,
      "outputs": []
    },
    {
      "cell_type": "markdown",
      "source": [
        "OR"
      ],
      "metadata": {
        "id": "__ISQlowXP8p"
      }
    },
    {
      "cell_type": "code",
      "source": [
        "dataset[\"Age\"].std()"
      ],
      "metadata": {
        "id": "j9ZPTiuuXSP1"
      },
      "execution_count": null,
      "outputs": []
    },
    {
      "cell_type": "code",
      "source": [
        "np.var(dataset[\"Age\"])"
      ],
      "metadata": {
        "id": "4bX1YkBKXZXg"
      },
      "execution_count": null,
      "outputs": []
    },
    {
      "cell_type": "markdown",
      "source": [
        "OR"
      ],
      "metadata": {
        "id": "wpA67zqoXeQk"
      }
    },
    {
      "cell_type": "code",
      "source": [
        "dataset[\"Age\"].var()"
      ],
      "metadata": {
        "id": "-hpI6UmMXf2B"
      },
      "execution_count": null,
      "outputs": []
    },
    {
      "cell_type": "markdown",
      "source": [
        "## Describing Data"
      ],
      "metadata": {
        "id": "NJJ_f6FrYDuG"
      }
    },
    {
      "cell_type": "code",
      "source": [
        "dataset.describe()"
      ],
      "metadata": {
        "id": "I5qKHd2VYIQQ"
      },
      "execution_count": null,
      "outputs": []
    },
    {
      "cell_type": "markdown",
      "source": [
        "## Percentiles and Quartiles"
      ],
      "metadata": {
        "id": "KPi9ZwKzYnVS"
      }
    },
    {
      "cell_type": "markdown",
      "source": [
        "Q1 - 25 Percentile,\n",
        "Q2 (Median) - 50 Percentile,\n",
        "Q3 - 75 Percentile"
      ],
      "metadata": {
        "id": "P1so4lKhc0G8"
      }
    },
    {
      "cell_type": "code",
      "source": [
        "np.percentile(dataset[\"Age\"],25)"
      ],
      "metadata": {
        "id": "NX0lFzntYr_k"
      },
      "execution_count": null,
      "outputs": []
    },
    {
      "cell_type": "code",
      "source": [
        "np.percentile(dataset[\"Age\"],50)"
      ],
      "metadata": {
        "id": "KAIDWPnmcYwO"
      },
      "execution_count": null,
      "outputs": []
    },
    {
      "cell_type": "markdown",
      "source": [
        "Box Plot of Age"
      ],
      "metadata": {
        "id": "bscE8uOUdM6r"
      }
    },
    {
      "cell_type": "code",
      "source": [
        "sns.boxplot(x=\"Age\",data=dataset)\n",
        "plt.show()"
      ],
      "metadata": {
        "id": "5Emf-Nj5dO5u"
      },
      "execution_count": null,
      "outputs": []
    },
    {
      "cell_type": "markdown",
      "source": [
        "Box Plot of Fare"
      ],
      "metadata": {
        "id": "7i4GPkaSdYuE"
      }
    },
    {
      "cell_type": "code",
      "source": [
        "sns.boxplot(x=\"Fare\",data=dataset)\n",
        "plt.show()"
      ],
      "metadata": {
        "id": "XBPKPdx_dayF"
      },
      "execution_count": null,
      "outputs": []
    },
    {
      "cell_type": "markdown",
      "source": [
        "## Skewness"
      ],
      "metadata": {
        "id": "DZ4eQpVkqntZ"
      }
    },
    {
      "cell_type": "markdown",
      "source": [
        "Checking skewness using Frequency Distribution(Histogram)"
      ],
      "metadata": {
        "id": "w4lBH7lkr800"
      }
    },
    {
      "cell_type": "code",
      "source": [
        "sns.histplot(x=\"Age\",data=dataset)\n",
        "plt.show()"
      ],
      "metadata": {
        "id": "FXWH9GKlr7Zr"
      },
      "execution_count": null,
      "outputs": []
    },
    {
      "cell_type": "markdown",
      "source": [
        "Checking skewness using inbuilt methods."
      ],
      "metadata": {
        "id": "L5RsDB7isQkN"
      }
    },
    {
      "cell_type": "code",
      "source": [
        "dataset[\"Age\"].skew()"
      ],
      "metadata": {
        "id": "Ac_QQoM8sT6o"
      },
      "execution_count": null,
      "outputs": []
    },
    {
      "cell_type": "markdown",
      "source": [
        "Normal distribution"
      ],
      "metadata": {
        "id": "xF-8P7SWynOW"
      }
    },
    {
      "cell_type": "code",
      "source": [
        "data = np.random.normal(0,100,100)\n",
        "print(data)"
      ],
      "metadata": {
        "id": "dqups2klyqna"
      },
      "execution_count": null,
      "outputs": []
    },
    {
      "cell_type": "code",
      "source": [
        "dfn=pd.DataFrame({\"x\":data})\n",
        "dfn[\"x\"].skew()"
      ],
      "metadata": {
        "id": "I4xlS6_xy1Sx"
      },
      "execution_count": null,
      "outputs": []
    },
    {
      "cell_type": "code",
      "source": [
        "#Plotting\n",
        "sns.histplot(x=\"x\",data=dfn)\n",
        "plt.show()"
      ],
      "metadata": {
        "id": "og-m2-ZYzEfW"
      },
      "execution_count": null,
      "outputs": []
    },
    {
      "cell_type": "markdown",
      "source": [
        "## Covariance and Correlation"
      ],
      "metadata": {
        "id": "i-djV7Y9FE9W"
      }
    },
    {
      "cell_type": "code",
      "source": [
        "dataset2=pd.read_csv(\"tips.csv\")"
      ],
      "metadata": {
        "id": "Y__wfvdgFICM"
      },
      "execution_count": null,
      "outputs": []
    },
    {
      "cell_type": "code",
      "source": [
        "dataset2.head(3)"
      ],
      "metadata": {
        "id": "BfpnlX4cFQaR"
      },
      "execution_count": null,
      "outputs": []
    },
    {
      "cell_type": "markdown",
      "source": [
        "Checking if there is any null value."
      ],
      "metadata": {
        "id": "e9ZKoCB3FYWA"
      }
    },
    {
      "cell_type": "code",
      "source": [
        "dataset2.isnull().sum()"
      ],
      "metadata": {
        "id": "hkE4RDKKFbeb"
      },
      "execution_count": null,
      "outputs": []
    },
    {
      "cell_type": "code",
      "source": [
        "dataset2.info()"
      ],
      "metadata": {
        "id": "b3DSJZKNFotw"
      },
      "execution_count": null,
      "outputs": []
    },
    {
      "cell_type": "code",
      "source": [
        "data_corr=dataset2.select_dtypes([\"float64\",\"int64\"]).corr()"
      ],
      "metadata": {
        "id": "rqMUC8csFwoB"
      },
      "execution_count": null,
      "outputs": []
    },
    {
      "cell_type": "code",
      "source": [
        "data_cov=dataset2.select_dtypes([\"float64\",\"int64\"]).cov()"
      ],
      "metadata": {
        "id": "KR8zDGKqGDdw"
      },
      "execution_count": null,
      "outputs": []
    },
    {
      "cell_type": "code",
      "source": [
        "sns.heatmap(data_corr)\n",
        "plt.show()"
      ],
      "metadata": {
        "id": "XZ9RT27dGWkn"
      },
      "execution_count": null,
      "outputs": []
    },
    {
      "cell_type": "code",
      "source": [
        "sns.heatmap(data_cov)\n",
        "plt.show()"
      ],
      "metadata": {
        "id": "aB0gCo5fG0iy"
      },
      "execution_count": null,
      "outputs": []
    },
    {
      "cell_type": "markdown",
      "source": [
        "## Central Limit Theorem"
      ],
      "metadata": {
        "id": "1o9PduGCIphZ"
      }
    },
    {
      "cell_type": "code",
      "source": [
        "del range\n",
        "data_random=[np.random.randint(10,100) for i in range(10000)]"
      ],
      "metadata": {
        "id": "jX05FmueIs2F"
      },
      "execution_count": null,
      "outputs": []
    },
    {
      "cell_type": "code",
      "source": [
        "data_table=pd.DataFrame({\"x\":data_random})\n",
        "print(data_table)"
      ],
      "metadata": {
        "id": "hB0P6OBfJnU-"
      },
      "execution_count": null,
      "outputs": []
    },
    {
      "cell_type": "code",
      "source": [
        "sns.kdeplot(x=\"x\",data=data_table)\n",
        "plt.show()"
      ],
      "metadata": {
        "id": "hXIbPexGJy0Y"
      },
      "execution_count": null,
      "outputs": []
    },
    {
      "cell_type": "code",
      "source": [
        "sample_mean=[]\n",
        "for i in range(100):\n",
        "  sample_data=[]\n",
        "  for data in range(500):\n",
        "    sample_data.append(np.random.choice(data_random))\n",
        "  sample_mean.append(np.mean(sample_data))"
      ],
      "metadata": {
        "id": "-gmz4y-zKB1V"
      },
      "execution_count": null,
      "outputs": []
    },
    {
      "cell_type": "code",
      "source": [
        "sample_m=pd.DataFrame({\"x\":sample_mean})"
      ],
      "metadata": {
        "id": "IBD0MNCJLIWr"
      },
      "execution_count": null,
      "outputs": []
    },
    {
      "cell_type": "code",
      "source": [
        "sns.kdeplot(x=\"x\",data=sample_m)\n",
        "plt.show()"
      ],
      "metadata": {
        "id": "k-JPPzdXLQ6c"
      },
      "execution_count": null,
      "outputs": []
    }
  ]
}