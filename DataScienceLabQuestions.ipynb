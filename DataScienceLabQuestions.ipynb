{
  "nbformat": 4,
  "nbformat_minor": 0,
  "metadata": {
    "colab": {
      "provenance": [],
      "authorship_tag": "ABX9TyNVFWPZCwmWHxlxwjvR/yBB",
      "include_colab_link": true
    },
    "kernelspec": {
      "name": "python3",
      "display_name": "Python 3"
    },
    "language_info": {
      "name": "python"
    }
  },
  "cells": [
    {
      "cell_type": "markdown",
      "metadata": {
        "id": "view-in-github",
        "colab_type": "text"
      },
      "source": [
        "<a href=\"https://colab.research.google.com/github/azmisaud/DataScience/blob/main/DataScienceLabQuestions.ipynb\" target=\"_parent\"><img src=\"https://colab.research.google.com/assets/colab-badge.svg\" alt=\"Open In Colab\"/></a>"
      ]
    },
    {
      "cell_type": "markdown",
      "source": [
        "# Week11 Question5"
      ],
      "metadata": {
        "id": "Q5ZMfXnsAIxF"
      }
    },
    {
      "cell_type": "markdown",
      "source": [
        "## Generating the demo dataset."
      ],
      "metadata": {
        "id": "4UjWLkvIA9dd"
      }
    },
    {
      "cell_type": "code",
      "execution_count": null,
      "metadata": {
        "id": "O_hSUQoBACPy"
      },
      "outputs": [],
      "source": [
        "import pandas as pd\n",
        "import numpy as np"
      ]
    },
    {
      "cell_type": "code",
      "source": [
        "num_samples=1000\n",
        "\n",
        "x1=np.random.choice(['A','B','C','D'],num_samples)\n",
        "x2=np.random.choice(['W','X','Y','Z'],num_samples)\n",
        "\n",
        "x3=np.random.normal(loc=50,scale=10,size=num_samples)\n",
        "x4=np.random.uniform(0,100,size=num_samples)\n",
        "x5=np.random.normal(loc=30,scale=5,size=num_samples)\n",
        "x6=np.random.uniform(10,50,size=num_samples)\n",
        "x7=np.random.uniform(0,1,size=num_samples)\n",
        "\n",
        "y=np.random.choice([0,1],num_samples)\n",
        "\n",
        "data=pd.DataFrame({\n",
        "    'x1':x1,\n",
        "    'x2':x2,\n",
        "    'x3':x3,\n",
        "    'x4':x4,\n",
        "    'x5':x5,\n",
        "    'x6':x6,\n",
        "    'x7':x7,\n",
        "    'y':y\n",
        "})\n",
        "\n",
        "data.to_csv('demo_dataset.csv',index=False)\n",
        "\n",
        "print(\"Dataset generated and saved as demo.csv\")"
      ],
      "metadata": {
        "id": "NskhSV--BWLO"
      },
      "execution_count": null,
      "outputs": []
    },
    {
      "cell_type": "markdown",
      "source": [
        "## Loading the generated dataset"
      ],
      "metadata": {
        "id": "L0QgFeFGEmqZ"
      }
    },
    {
      "cell_type": "code",
      "source": [
        "data_df=pd.read_csv('demo_dataset.csv')"
      ],
      "metadata": {
        "id": "mBNOJmPuEpQp"
      },
      "execution_count": null,
      "outputs": []
    },
    {
      "cell_type": "markdown",
      "source": [
        "## Cleaning the data"
      ],
      "metadata": {
        "id": "WhZ21GduEG3W"
      }
    },
    {
      "cell_type": "markdown",
      "source": [
        "### 1. Handling Missing Values"
      ],
      "metadata": {
        "id": "TO2U0A0dEQqh"
      }
    },
    {
      "cell_type": "code",
      "source": [
        "missing_values=data_df.isnull().sum()\n",
        "print(missing_values)\n",
        "\n",
        "#There are no missing values since the data is generated as per the choice."
      ],
      "metadata": {
        "id": "0aR2PFFkEKBx"
      },
      "execution_count": null,
      "outputs": []
    },
    {
      "cell_type": "markdown",
      "source": [
        "### Handling Outliers"
      ],
      "metadata": {
        "id": "XDVmyjwuFWsu"
      }
    },
    {
      "cell_type": "code",
      "source": [
        "#Using the IQR method for outlier handling\n",
        "for col in ['x3','x4','x5','x6']:\n",
        "  Q1=data_df[col].quantile(0.25)\n",
        "  Q3=data_df[col].quantile(0.75)\n",
        "  IQR=Q3-Q1\n",
        "  lower_bound=Q1-1.5*IQR\n",
        "  upper_bound=Q3+1.5*IQR\n",
        "  data_df[col]=np.where(data_df[col]<lower_bound,lower_bound,data_df[col])\n",
        "  data_df[col]=np.where(data_df[col]>upper_bound,upper_bound,data_df[col])"
      ],
      "metadata": {
        "id": "XKKLrgJVFZiG"
      },
      "execution_count": null,
      "outputs": []
    },
    {
      "cell_type": "markdown",
      "source": [
        "### Label Encoding the nominal data"
      ],
      "metadata": {
        "id": "F1Sz0-lJHa0h"
      }
    },
    {
      "cell_type": "markdown",
      "source": [
        "Importing the LabelEncoder from sklearn"
      ],
      "metadata": {
        "id": "db8p-QE2Heo2"
      }
    },
    {
      "cell_type": "code",
      "source": [
        "from sklearn.preprocessing import LabelEncoder"
      ],
      "metadata": {
        "id": "p74xWNj4Hjtk"
      },
      "execution_count": null,
      "outputs": []
    },
    {
      "cell_type": "code",
      "source": [
        "label_encoder=LabelEncoder()\n",
        "\n",
        "data_df['x1']=label_encoder.fit_transform(data_df['x1'])\n",
        "data_df['x2']=label_encoder.fit_transform(data_df['x2'])"
      ],
      "metadata": {
        "id": "HRe-fCI7Ho3T"
      },
      "execution_count": null,
      "outputs": []
    },
    {
      "cell_type": "markdown",
      "source": [
        "## Scaling the data"
      ],
      "metadata": {
        "id": "3mHttWdvIQZw"
      }
    },
    {
      "cell_type": "markdown",
      "source": [
        "Importing the standard scaler from sklearn"
      ],
      "metadata": {
        "id": "_BV22ymoIWf3"
      }
    },
    {
      "cell_type": "code",
      "source": [
        "from sklearn.preprocessing import StandardScaler"
      ],
      "metadata": {
        "id": "leIpHhdMIU0U"
      },
      "execution_count": null,
      "outputs": []
    },
    {
      "cell_type": "code",
      "source": [
        "X=data_df.drop(columns=['y'])\n",
        "y=data_df['y']\n",
        "\n",
        "continous_features=['x3','x4','x5','x6']\n",
        "\n",
        "scaler=StandardScaler()\n",
        "\n",
        "X_scaled=X.copy()\n",
        "X_scaled[continous_features]=scaler.fit_transform(X[continous_features])\n",
        "\n",
        "X_scaled['x7']=X['x7']\n",
        "\n",
        "final_df=pd.concat([X_scaled, y.reset_index(drop=True)],axis=1)"
      ],
      "metadata": {
        "id": "V8ZEy788IjVq"
      },
      "execution_count": null,
      "outputs": []
    },
    {
      "cell_type": "markdown",
      "source": [
        "## Training this dataset"
      ],
      "metadata": {
        "id": "BYvaGzGKLjpx"
      }
    },
    {
      "cell_type": "markdown",
      "source": [
        "Importing the libraries"
      ],
      "metadata": {
        "id": "VDPDEg-7LrUO"
      }
    },
    {
      "cell_type": "code",
      "source": [
        "from sklearn.model_selection import train_test_split\n",
        "from sklearn.linear_model import LogisticRegression\n",
        "from sklearn.tree import DecisionTreeClassifier\n",
        "from sklearn.ensemble import RandomForestClassifier\n",
        "from sklearn.metrics import accuracy_score, f1_score, confusion_matrix\n",
        "import seaborn as sns\n",
        "import matplotlib.pyplot as plt"
      ],
      "metadata": {
        "id": "zqMxPP_zLqlm"
      },
      "execution_count": null,
      "outputs": []
    },
    {
      "cell_type": "code",
      "source": [
        "X=final_df.drop(columns=['y'])\n",
        "y=final_df['y']\n",
        "\n",
        "X_train, X_test, y_train, y_test = train_test_split(X,y,test_size=0.3,random_state=42)\n"
      ],
      "metadata": {
        "id": "thsQErszMFe2"
      },
      "execution_count": null,
      "outputs": []
    },
    {
      "cell_type": "markdown",
      "source": [
        "### Logistic Regression"
      ],
      "metadata": {
        "id": "Vh9mqA-aLnMt"
      }
    },
    {
      "cell_type": "code",
      "source": [
        "log_reg=LogisticRegression(random_state=42)\n",
        "\n",
        "log_reg.fit(X_train,y_train)\n",
        "\n",
        "y_pred=log_reg.predict(X_test)\n",
        "\n",
        "accuracy_reg=accuracy_score(y_test,y_pred)\n",
        "f1_reg=f1_score(y_test,y_pred)\n",
        "conf_matrix_reg=confusion_matrix(y_test,y_pred)\n",
        "\n",
        "print(\"Accuracy:\",accuracy_reg)\n",
        "print(\"F1 Score:\",f1_reg)\n",
        "print(\"Confusion Matrix :\\n \", conf_matrix_reg)"
      ],
      "metadata": {
        "id": "X7HmjaEYMtJB"
      },
      "execution_count": null,
      "outputs": []
    },
    {
      "cell_type": "markdown",
      "source": [
        "### Decision Tree"
      ],
      "metadata": {
        "id": "v7wRq8QNNyBg"
      }
    },
    {
      "cell_type": "code",
      "source": [
        "decision_tree=DecisionTreeClassifier(random_state=42)\n",
        "\n",
        "decision_tree.fit(X_train,y_train)\n",
        "\n",
        "y_pred_dt=decision_tree.predict(X_test)\n",
        "\n",
        "accuracy_dt=accuracy_score(y_test,y_pred_dt)\n",
        "f1_dt=f1_score(y_test,y_pred_dt)\n",
        "conf_matrix_dt=confusion_matrix(y_test,y_pred_dt)\n",
        "\n",
        "print(\"Accuracy:\",accuracy_dt)\n",
        "print(\"F1 Score:\",f1_dt)\n",
        "print(\"Confusion Matrix : \\n\", conf_matrix_dt)"
      ],
      "metadata": {
        "id": "jESHuS_-OFs-"
      },
      "execution_count": null,
      "outputs": []
    },
    {
      "cell_type": "markdown",
      "source": [
        "### Random Forest"
      ],
      "metadata": {
        "id": "YtX8QyynOtdG"
      }
    },
    {
      "cell_type": "code",
      "source": [
        "random_forest=RandomForestClassifier(random_state=42)\n",
        "\n",
        "random_forest.fit(X_train,y_train)\n",
        "\n",
        "y_pred_rf=random_forest.predict(X_test)\n",
        "\n",
        "accuracy_rf=accuracy_score(y_test,y_pred_rf)\n",
        "f1_rf=f1_score(y_test,y_pred_rf)\n",
        "conf_matrix_rf=confusion_matrix(y_test,y_pred_rf)\n",
        "\n",
        "print(\"Accuracy:\",accuracy_rf)\n",
        "print(\"F1 Score:\",f1_rf)\n",
        "print(\"Confusion Matrix : \\n\", conf_matrix_rf)"
      ],
      "metadata": {
        "id": "zo2QE76SOz6c"
      },
      "execution_count": null,
      "outputs": []
    }
  ]
}