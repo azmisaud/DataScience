{
  "nbformat": 4,
  "nbformat_minor": 0,
  "metadata": {
    "colab": {
      "provenance": [],
      "authorship_tag": "ABX9TyO5mICfe0jIPfOIE6VOGivW",
      "include_colab_link": true
    },
    "kernelspec": {
      "name": "python3",
      "display_name": "Python 3"
    },
    "language_info": {
      "name": "python"
    }
  },
  "cells": [
    {
      "cell_type": "markdown",
      "metadata": {
        "id": "view-in-github",
        "colab_type": "text"
      },
      "source": [
        "<a href=\"https://colab.research.google.com/github/azmisaud/DataScience/blob/main/Numpy.ipynb\" target=\"_parent\"><img src=\"https://colab.research.google.com/assets/colab-badge.svg\" alt=\"Open In Colab\"/></a>"
      ]
    },
    {
      "cell_type": "markdown",
      "source": [
        "# Numpy"
      ],
      "metadata": {
        "id": "KJJjM8mZec3p"
      }
    },
    {
      "cell_type": "code",
      "execution_count": null,
      "metadata": {
        "id": "x-Ql7Lu8eTBG"
      },
      "outputs": [],
      "source": [
        "import numpy as np"
      ]
    },
    {
      "cell_type": "markdown",
      "source": [
        "## Creating Arrays"
      ],
      "metadata": {
        "id": "nr0FkJ9_f5_e"
      }
    },
    {
      "cell_type": "markdown",
      "source": [
        "One Dimensional"
      ],
      "metadata": {
        "id": "Exa4pcKdgF-U"
      }
    },
    {
      "cell_type": "code",
      "source": [
        "x1=np.array([1,2,3,4])\n",
        "print(x1)"
      ],
      "metadata": {
        "id": "q5buI1mAf-6g"
      },
      "execution_count": null,
      "outputs": []
    },
    {
      "cell_type": "markdown",
      "source": [
        "Two Dimensional"
      ],
      "metadata": {
        "id": "EBnn9Lr-gH-v"
      }
    },
    {
      "cell_type": "code",
      "source": [
        "x2=np.array([[1,2,3,4],[5,6,7,8]])\n",
        "print(x2)"
      ],
      "metadata": {
        "id": "2PvfAPz5gJ36"
      },
      "execution_count": null,
      "outputs": []
    },
    {
      "cell_type": "markdown",
      "source": [
        "Higher Dimensions"
      ],
      "metadata": {
        "id": "EHAPVCUjgVi3"
      }
    },
    {
      "cell_type": "code",
      "source": [
        "x3=np.array([[[1,2,3,4],[4,5,6,7]]])\n",
        "print(x3)"
      ],
      "metadata": {
        "id": "w5_TLGMDgX_Y"
      },
      "execution_count": null,
      "outputs": []
    },
    {
      "cell_type": "markdown",
      "source": [
        "## Dimensions of Arrays"
      ],
      "metadata": {
        "id": "wPi2WetQiExc"
      }
    },
    {
      "cell_type": "code",
      "source": [
        "print(x2.ndim)"
      ],
      "metadata": {
        "id": "rMb2UXZWih6y"
      },
      "execution_count": null,
      "outputs": []
    },
    {
      "cell_type": "code",
      "source": [
        "print(x1.ndim)"
      ],
      "metadata": {
        "id": "-I0ztYUjiHWt"
      },
      "execution_count": null,
      "outputs": []
    },
    {
      "cell_type": "code",
      "source": [
        "print(x3.ndim)"
      ],
      "metadata": {
        "id": "sNHN6EUPil-B"
      },
      "execution_count": null,
      "outputs": []
    },
    {
      "cell_type": "markdown",
      "source": [
        "## Creating Special Arrays"
      ],
      "metadata": {
        "id": "vz_9AOQ9isQe"
      }
    },
    {
      "cell_type": "markdown",
      "source": [
        "Empty Array"
      ],
      "metadata": {
        "id": "qKsllbt0iyQX"
      }
    },
    {
      "cell_type": "code",
      "source": [
        "ar_empty=np.empty(4)\n",
        "print(ar_empty)"
      ],
      "metadata": {
        "id": "1SdlpsSRixMF"
      },
      "execution_count": null,
      "outputs": []
    },
    {
      "cell_type": "markdown",
      "source": [
        "Range Array"
      ],
      "metadata": {
        "id": "lEai4qZKi7Lr"
      }
    },
    {
      "cell_type": "code",
      "source": [
        "ar_range=np.arange(10)\n",
        "print(ar_range)"
      ],
      "metadata": {
        "id": "t5LGERvBi9_y"
      },
      "execution_count": null,
      "outputs": []
    },
    {
      "cell_type": "markdown",
      "source": [
        "2D Array Diagonal element filled with 1's"
      ],
      "metadata": {
        "id": "05oOS7-SjEjO"
      }
    },
    {
      "cell_type": "code",
      "source": [
        "ar_diagonal=np.eye(3)\n",
        "print(ar_diagonal)"
      ],
      "metadata": {
        "id": "gLs4HUzFjLUv"
      },
      "execution_count": null,
      "outputs": []
    },
    {
      "cell_type": "markdown",
      "source": [
        "An array with minimum dimension 10"
      ],
      "metadata": {
        "id": "cyLUhJxGjUe9"
      }
    },
    {
      "cell_type": "code",
      "source": [
        "ar_dim10=np.array([1,2,3,4],ndmin=10)\n",
        "print(ar_dim10)\n",
        "print(ar_dim10.ndim)"
      ],
      "metadata": {
        "id": "dWweQHYGjXnW"
      },
      "execution_count": null,
      "outputs": []
    },
    {
      "cell_type": "markdown",
      "source": [
        "Array filled with Zero"
      ],
      "metadata": {
        "id": "0DvPQP0wjyCW"
      }
    },
    {
      "cell_type": "code",
      "source": [
        "#1D Array\n",
        "ar_zeroes=np.zeros(4)\n",
        "print(ar_zeroes)"
      ],
      "metadata": {
        "id": "qv4yHn19j5_1"
      },
      "execution_count": null,
      "outputs": []
    },
    {
      "cell_type": "code",
      "source": [
        "#2D Array\n",
        "ar_zeroes_2D=np.zeros((3,4))\n",
        "print(ar_zeroes_2D)"
      ],
      "metadata": {
        "id": "te3tLvR5kDjc"
      },
      "execution_count": null,
      "outputs": []
    },
    {
      "cell_type": "markdown",
      "source": [
        "Array filled with Ones"
      ],
      "metadata": {
        "id": "85pRu4u6kNEz"
      }
    },
    {
      "cell_type": "code",
      "source": [
        "#1D Array\n",
        "ar_ones=np.ones(10)\n",
        "print(ar_ones)"
      ],
      "metadata": {
        "id": "P3DJSABhkSnw"
      },
      "execution_count": null,
      "outputs": []
    },
    {
      "cell_type": "code",
      "source": [
        "#2D Array\n",
        "ar_ones_2D=np.ones((10,5))\n",
        "print(ar_ones_2D)"
      ],
      "metadata": {
        "id": "J-F62qiekY-r"
      },
      "execution_count": null,
      "outputs": []
    },
    {
      "cell_type": "markdown",
      "source": [
        "Array with values that are spaced linearly in a specified interval"
      ],
      "metadata": {
        "id": "gr0iKyD4lFbP"
      }
    },
    {
      "cell_type": "code",
      "source": [
        "ar_linspace=np.linspace(1,10,num=5)\n",
        "print(ar_linspace)"
      ],
      "metadata": {
        "id": "pDwY6MDNlKun"
      },
      "execution_count": null,
      "outputs": []
    },
    {
      "cell_type": "code",
      "source": [
        "ar_linspace2=np.linspace(0,100,num=11)\n",
        "print(ar_linspace2)"
      ],
      "metadata": {
        "id": "_CTo0XcJlpkr"
      },
      "execution_count": null,
      "outputs": []
    },
    {
      "cell_type": "markdown",
      "source": [
        "## Random Valued Arrays"
      ],
      "metadata": {
        "id": "dHlzGWVwmU0K"
      }
    },
    {
      "cell_type": "code",
      "source": [
        "# rand() : generates any random number between 0 and 1\n",
        "#1D Array\n",
        "ar_random1=np.random.rand(5)\n",
        "print(ar_random1)"
      ],
      "metadata": {
        "id": "fhMMpRQSmZ5Y"
      },
      "execution_count": null,
      "outputs": []
    },
    {
      "cell_type": "code",
      "source": [
        "#2D Array\n",
        "ar_random2=np.random.rand(5,4)\n",
        "print(ar_random2)"
      ],
      "metadata": {
        "id": "zsI6pqj7m9cW"
      },
      "execution_count": null,
      "outputs": []
    },
    {
      "cell_type": "code",
      "source": [
        "# randn() : Generates random value close to zero [+ve or -ve]\n",
        "#1D Array\n",
        "ar_random3=np.random.randn(5)\n",
        "print(ar_random3)"
      ],
      "metadata": {
        "id": "SFyxFPganQ-7"
      },
      "execution_count": null,
      "outputs": []
    },
    {
      "cell_type": "code",
      "source": [
        "#2D Array\n",
        "ar_random4=np.random.randn(5,4)\n",
        "print(ar_random4)"
      ],
      "metadata": {
        "id": "vsjMOmuTnch5"
      },
      "execution_count": null,
      "outputs": []
    },
    {
      "cell_type": "code",
      "source": [
        "# randint() : Generate a random number between a given range\n",
        "#1D Array\n",
        "ar_random5=np.random.randint(1,10,5)\n",
        "print(ar_random5)"
      ],
      "metadata": {
        "id": "MUSCbORgoG1m"
      },
      "execution_count": null,
      "outputs": []
    },
    {
      "cell_type": "code",
      "source": [
        "#2D Array\n",
        "ar_random6=np.random.randint(1,10,(5,6))\n",
        "print(ar_random6)"
      ],
      "metadata": {
        "id": "UrLv4gBuoccx"
      },
      "execution_count": null,
      "outputs": []
    }
  ]
}